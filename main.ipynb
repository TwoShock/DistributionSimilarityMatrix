{
 "cells": [
  {
   "cell_type": "code",
   "execution_count": 1,
   "metadata": {},
   "outputs": [],
   "source": [
    "import nltk\n",
    "import re"
   ]
  },
  {
   "cell_type": "code",
   "execution_count": 2,
   "metadata": {},
   "outputs": [],
   "source": [
    "file_1 = 'V1'#new\n",
    "file_2 = 'V2'#old\n",
    "with open(file_1, 'r') as myfile:\n",
    "    file_1 = myfile.read()\n",
    "with open(file_2,'r') as myfile:\n",
    "    file_2 = myfile.read()"
   ]
  },
  {
   "cell_type": "code",
   "execution_count": 3,
   "metadata": {},
   "outputs": [],
   "source": [
    "file1_words = nltk.word_tokenize(file_1)\n",
    "file2_words = nltk.word_tokenize(file_2)\n",
    "def remove_values_from_list(the_list, val):\n",
    "   return [value for value in the_list if value != val]"
   ]
  },
  {
   "cell_type": "code",
   "execution_count": 4,
   "metadata": {},
   "outputs": [],
   "source": [
    "omitedSymbols = ['{','}','(',')',';',',']\n",
    "for w in omitedSymbols:\n",
    "    file1_words = remove_values_from_list(file1_words,w)\n",
    "    file2_words = remove_values_from_list(file2_words,w)"
   ]
  },
  {
   "cell_type": "code",
   "execution_count": 5,
   "metadata": {},
   "outputs": [],
   "source": [
    "mwtokenizer = nltk.MWETokenizer(separator='')\n",
    "mwtokenizer.add_mwe(('&', '&'))\n",
    "mwtokenizer.add_mwe(('!','='))\n",
    "mwtokenizer.add_mwe(('=','='))\n",
    "mwtokenizer.add_mwe(('|','|'))\n",
    "file1_words = mwtokenizer.tokenize(file1_words)\n",
    "file2_words = mwtokenizer.tokenize(file2_words)"
   ]
  },
  {
   "cell_type": "code",
   "execution_count": 6,
   "metadata": {},
   "outputs": [],
   "source": [
    "import pandas as pd\n",
    "for w in file1_words:\n",
    "    if(w not in file2_words):\n",
    "        file2_words.append(w)\n",
    "for w in file2_words:\n",
    "    if(w not in file1_words):\n",
    "        file1_words.append(w)\n",
    "file1_word_set = set(sorted(file1_words))\n",
    "file2_word_set = set(sorted(file2_words))"
   ]
  },
  {
   "cell_type": "code",
   "execution_count": 7,
   "metadata": {},
   "outputs": [
    {
     "data": {
      "text/plain": [
       "<Figure size 640x480 with 1 Axes>"
      ]
     },
     "metadata": {},
     "output_type": "display_data"
    }
   ],
   "source": [
    "from nltk import FreqDist\n",
    "freqDist1 = FreqDist(file1_words)\n",
    "freqDist2 = FreqDist(file2_words)\n",
    "import matplotlib.pyplot as plt\n",
    "plt.bar(freqDist1.keys(),freqDist1.values())\n",
    "plt.title(\"Latest Code Word frequency distribution\")\n",
    "plt.show()"
   ]
  },
  {
   "cell_type": "code",
   "execution_count": 8,
   "metadata": {},
   "outputs": [
    {
     "data": {
      "image/png": "[encoded data removed]",
      "text/plain": [
       "<Figure size 432x288 with 1 Axes>"
      ]
     },
     "metadata": {
      "needs_background": "light"
     },
     "output_type": "display_data"
    }
   ],
   "source": [
    "plt.bar(freqDist2.keys(),freqDist2.values())\n",
    "plt.title(\"Earlier Code Word frequency distribution\")\n",
    "plt.show()"
   ]
  },
  {
   "cell_type": "code",
   "execution_count": 9,
   "metadata": {},
   "outputs": [],
   "source": [
    "df1 = pd.DataFrame(index = sorted(file1_word_set),columns=sorted(file1_word_set))\n",
    "df1.fillna(0,inplace = True)\n",
    "\n",
    "df2 = pd.DataFrame(index = sorted(file2_word_set),columns=sorted(file2_word_set))\n",
    "df2.fillna(0,inplace = True)\n",
    "\n",
    "def updateWordCount(word,token_list,df):\n",
    "    for i,w in enumerate(token_list):\n",
    "        if(w == word):\n",
    "            if(i == 0):\n",
    "                df[w][token_list[i+1]] += 1\n",
    "            elif(i == len(token_list)-1):\n",
    "                df[w][token_list[i-1]] += 1\n",
    "            else:\n",
    "                df[w][token_list[i-1]] += 1\n",
    "                df[w][token_list[i+1]] += 1\n",
    "    return df\n",
    "            "
   ]
  },
  {
   "cell_type": "code",
   "execution_count": 10,
   "metadata": {},
   "outputs": [],
   "source": [
    "for w in file1_word_set:\n",
    "    df1 = updateWordCount(w,file1_words,df1)\n",
    "for w in file2_word_set:\n",
    "    df2 = updateWordCount(w,file2_words,df2)"
   ]
  },
  {
   "cell_type": "code",
   "execution_count": 11,
   "metadata": {},
   "outputs": [],
   "source": [
    "df1_normalized = df1.div(df1.sum(axis=1),axis = 0)\n",
    "df2_normalized = df2.div(df2.sum(axis=1),axis = 0)"
   ]
  },
  {
   "cell_type": "code",
   "execution_count": 12,
   "metadata": {},
   "outputs": [],
   "source": [
    "from scipy.spatial import distance\n",
    "euclidDistMetrics = {}\n",
    "for w in file1_word_set:\n",
    "    euclidDistMetrics[w] = distance.euclidean(df1_normalized[w],df2_normalized[w])"
   ]
  },
  {
   "cell_type": "code",
   "execution_count": 13,
   "metadata": {},
   "outputs": [],
   "source": [
    "import operator\n",
    "topTwentyFive = sorted(euclidDistMetrics.items(),key = operator.itemgetter(1),reverse = True)"
   ]
  },
  {
   "cell_type": "code",
   "execution_count": 14,
   "metadata": {
    "scrolled": false
   },
   "outputs": [
    {
     "name": "stdout",
     "output_type": "stream",
     "text": [
      "List containing changes in order\n",
      "[('==', 1.4811050954280276), ('if', 1.3030102568842334), ('``', 1.1244256096601264), ('&&', 1.0702367392994923), ('j', 1.0105993798642476), ('import', 1.0), ('=', 0.9132030080513387), ('boolean', 0.8920611461216493), ('y', 0.8736312108858891), ('gridSize-1', 0.8678458053729754), ('int', 0.8097353104084853), ('e', 0.7533936824903209), ('1', 0.7511565157216644), ('y+2', 0.7498734694733631), ('||', 0.739917773869587), ('Congratulations', 0.7286042804780001), ('winPrompt.setContentText', 0.7286042804780001), ('winPrompt.showAndWait', 0.7286042804780001), ('count++', 0.7279037666342009), ('x', 0.7217335623532007), ('y-2', 0.7183488736831204), ('Alert', 0.7155742346261295), ('x+2', 0.7137881831980925), ('x-2', 0.7137881831980925), ('surrondingTiles', 0.713712354828025), ('surrondingCornerTiles', 0.7134154357322636), (\"''\", 0.71254196324337), ('-', 0.7109866671157249), ('j==', 0.7107884272161032), ('count', 0.7099397029234928), ('newSize', 0.7089731477778566), ('bottomEdgeCase', 0.7089635987796343), ('cornerCase', 0.7089635987796343), ('leftEdgeCase', 0.7089635987796343), ('topEdgeCase', 0.7089635987796343), ('rightEdgeCase', 0.7089635987796343), ('.getState', 0.7088998959655728), ('changeAllTileSizes', 0.7084287680012514), ('==j', 0.7076848883751637), ('getOpenTileCount', 0.7076546503103908), ('+2', 0.7076320706751603), ('0||', 0.7075699185173357), ('y+2||', 0.7071557481139704), ('void', 0.6895668894843365), ('return', 0.6187882540983239), ('!', 0.6157057950957453), ('>', 0.6130680338648057), ('y-1', 0.6086981835351079), ('//when', 0.5591182105616134), ('winPrompt', 0.5590858134068929), ('gridSize*gridSize', 0.5590439961135699), ('Alert.AlertType.INFORMATION', 0.5590169943749475), ('javafx.scene.control.Alert', 0.5343761327376714), ('y+1', 0.5301263317028583), ('i', 0.5262209059941441), ('gameOver', 0.508372142405381), ('.equals', 0.5068968775248517), ('Win', 0.5068968775248517), ('You', 0.5030769521187454), ('winPrompt.setHeaderText', 0.5030769521187454), ('currentTile', 0.5026691668957826), ('Random', 0.5021509855062498), ('handleUserInput', 0.5020761533156011), ('e-', 0.5020618644176028), ('State.OPENED', 0.5019920017281153), ('reveal', 0.5007209689016271), ('tiles', 0.5004930078923034), ('revealing', 0.5), ('continue', 0.36691809588400087), ('bombCount', 0.35583524499704716), ('gameState', 0.3061225756938274), ('gridSize', 0.28411232845621576), ('private', 0.2767699777753385), ('currentTile.toggleFlag', 0.2697735676039774), ('while', 0.2692582403567252), ('for', 0.2648864790419296), ('currentTile.setStyle', 0.2515384760593727), ('flagCount', 0.2512202480868785), ('new', 0.2500949876393344), ('.changeTileSize', 0.25007811279678194), ('should', 0.25), ('valid', 0.25), ('MouseEvent', 0.25), ('u', 0.2), ('clearGrid', 0.1865463974622939), ('currentTile.isBomb', 0.1864880039962716), ('State.FLAGGED', 0.17260649244733794), ('true', 0.16668550970422452), ('0', 0.14959713883565778), ('public', 0.1387644449274735), ('firstMove', 0.11815598525690331), ('getTileAtPosition', 0.1096479418567547), ('else', 0.10753592865831556), ('||i', 0.10354410872287771), ('isGameOver', 0.10282006132997625), ('currentTile.getState', 0.10070020362550901), ('this.flagCount', 0.08441224050944537), ('this.gameState', 0.08423015305981524), ('fillGrid', 0.0836769774029338), ('+', 0.08333333333333334), ('red', 0.08333333333333334), ('currentTile.setState', 0.08333333333333334), ('x+1', 0.07043021776222731), ('Tile', 0.06952190713016014), ('j++', 0.06918452083312625), ('isFirstMove', 0.06837479948854043), ('x-1', 0.06742139834261351), ('i++', 0.06620575981668826), ('<', 0.06192249465109997), ('setFirstMove', 0.05862067008919148), ('--', 0.05828110454292472), ('System.out.print', 0.0556937918765299), ('b', 0.05555555555555555), ('ArrayList', 0.04699966723563641), ('-1', 0.04524637744143467), ('event.getButton', 0.041183883801153225), ('java.util.ArrayList', 0.04040404040404039), ('javafx.scene.layout.GridPane', 0.04040404040404039), ('javafx.scene.input.MouseButton', 0.04040404040404039), ('javafx.scene.input.MouseEvent', 0.04040404040404039), ('.isBomb', 0.0286177494043868), ('System.out.println', 0.02803485266562439), ('-fx-background-color', 0.027777777777777776), ('//currentTile.setOnMouseClicked', 0.02716934635983433), ('placeNumbers', 0.026862489500310702), ('this.firstMove', 0.025773213757134233), ('==j||', 0.0253822213018559), ('j-1', 0.025195528112003), ('i-1', 0.025195528112003), ('y++', 0.024999999999999994), ('add', 0.023809523809523808), ('java.util.Random', 0.020202020202020193), ('Number', 0.017234701505804084), ('currentNeighbourCount', 0.016528163320198345), ('MouseButton.PRIMARY', 0.01337946943696382), ('super', 0.011904761904761904), ('currentList.add', 0.011904761904761904), ('random.nextInt', 0.011800785879378273), ('printGrid', 0.011527774990392033), ('intializeGrid', 0.010971793885819304), ('currentList', 0.009667675630356051), ('MouseButton.SECONDARY', 0.009296107240240756), ('x++', 0.007936507936507936), ('currentTile.displayEmpty', 0.007453416149068323), ('currentTile.isNumber', 0.007453416149068323), ('currentTile.isEmpty', 0.007453416149068323), ('false', 0.007321650980659737), ('getNeighbourBombCount', 0.007037041415772893), ('tiles.get', 0.006318094272894391), ('placeBombs', 0.006222316540894968), ('.get', 0.006205990366796826), ('neighbourBombCount', 0.005965553878272521), ('tempBombCount', 0.005965553878272521), ('this.tiles', 0.005900392939689136), ('.setBomb', 0.0057969978375060315), ('this.bombCount', 0.005520488553337177), ('getGridSize', 0.005076730860685734), ('tiles.add', 0.004545454545454547), ('currentTile.displayNumber', 0.004545454545454547), ('neighbourBombCount++', 0.004545454545454547), ('.isNumber', 0.004388297872340425), ('.resetTile', 0.004388297872340425), ('.setTileType', 0.004388297872340425), ('.isEmpty', 0.004388297872340425), ('.getNumber', 0.004388297872340425), ('.setNumber', 0.004388297872340425), ('newGame', 0.0037878787878787915), ('this.gridSize', 0.003132832080200501), ('i+1', 0.003132832080200501), ('random', 0.003132832080200501), ('j+1', 0.003132832080200501), ('currentNumber', 0.003132832080200501), ('TileType.NUMBER', 0.0022609819121447022), ('Grid', 0.0022609819121447022), ('event', 0.0022609819121447022), ('flags', 0.0), ('flagCount++', 0.0), ('extends', 0.0), ('remove', 0.0), ('class', 0.0), (':', 0.0), ('before', 0.0), ('GridPane', 0.0), ('currentTile.displayTile', 0.0)]\n"
     ]
    }
   ],
   "source": [
    "print(\"List containing changes in order\")\n",
    "print(topTwentyFive)"
   ]
  },
  {
   "cell_type": "code",
   "execution_count": null,
   "metadata": {},
   "outputs": [],
   "source": []
  }
 ],
 "metadata": {
  "kernelspec": {
   "display_name": "Python 3",
   "language": "python",
   "name": "python3"
  },
  "language_info": {
   "codemirror_mode": {
    "name": "ipython",
    "version": 3
   },
   "file_extension": ".py",
   "mimetype": "text/x-python",
   "name": "python",
   "nbconvert_exporter": "python",
   "pygments_lexer": "ipython3",
   "version": "3.7.3"
  }
 },
 "nbformat": 4,
 "nbformat_minor": 2
}
